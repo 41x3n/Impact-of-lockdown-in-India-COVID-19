{
 "cells": [
  {
   "cell_type": "markdown",
   "metadata": {},
   "source": [
    "## Data Source"
   ]
  },
  {
   "cell_type": "markdown",
   "metadata": {},
   "source": [
    "https://api.covid19india.org/"
   ]
  },
  {
   "cell_type": "markdown",
   "metadata": {},
   "source": [
    "## Import libraries"
   ]
  },
  {
   "cell_type": "code",
   "execution_count": 1,
   "metadata": {},
   "outputs": [],
   "source": [
    "# to get web contents\n",
    "import requests\n",
    "# to parse json contents\n",
    "import json\n",
    "# to parse csv files\n",
    "import csv\n",
    "\n",
    "# for numerical operations\n",
    "import numpy as np\n",
    "# to store and analysis data in dataframes\n",
    "import pandas as pd"
   ]
  },
  {
   "cell_type": "markdown",
   "metadata": {},
   "source": [
    "## Get data"
   ]
  },
  {
   "cell_type": "markdown",
   "metadata": {},
   "source": [
    "### df_1 - Till Apr 19"
   ]
  },
  {
   "cell_type": "code",
   "execution_count": 2,
   "metadata": {},
   "outputs": [
    {
     "data": {
      "text/plain": [
       "dict_keys(['raw_data'])"
      ]
     },
     "execution_count": 2,
     "metadata": {},
     "output_type": "execute_result"
    }
   ],
   "source": [
    "# df_1 - Till Apr 19\n",
    "# ==================\n",
    "\n",
    "# get response from the web page\n",
    "response = requests.get('https://api.covid19india.org/raw_data1.json')\n",
    "# get contents from the response\n",
    "content = response.content\n",
    "# parse the json file\n",
    "parsed = json.loads(content)\n",
    "# keys\n",
    "parsed.keys()"
   ]
  },
  {
   "cell_type": "code",
   "execution_count": 3,
   "metadata": {},
   "outputs": [
    {
     "name": "stdout",
     "output_type": "stream",
     "text": [
      "(17306, 20)\n",
      "Index(['agebracket', 'backupnotes', 'contractedfromwhichpatientsuspected',\n",
      "       'currentstatus', 'dateannounced', 'detectedcity', 'detecteddistrict',\n",
      "       'detectedstate', 'estimatedonsetdate', 'gender', 'nationality', 'notes',\n",
      "       'patientnumber', 'source1', 'source2', 'source3', 'statecode',\n",
      "       'statepatientnumber', 'statuschangedate', 'typeoftransmission'],\n",
      "      dtype='object')\n"
     ]
    }
   ],
   "source": [
    "# save to df\n",
    "df_1 = pd.DataFrame(parsed['raw_data'])\n",
    "\n",
    "# shape of the dataframe\n",
    "print(df_1.shape)\n",
    "\n",
    "# # list of columns\n",
    "print(df_1.columns)\n",
    "\n",
    "# # first few rows\n",
    "# df_1.head(2)"
   ]
  },
  {
   "cell_type": "markdown",
   "metadata": {},
   "source": [
    "### df_2 - Till Apr 26"
   ]
  },
  {
   "cell_type": "code",
   "execution_count": 4,
   "metadata": {},
   "outputs": [
    {
     "data": {
      "text/plain": [
       "dict_keys(['raw_data'])"
      ]
     },
     "execution_count": 4,
     "metadata": {},
     "output_type": "execute_result"
    }
   ],
   "source": [
    "# df_2 - Till Apr 26\n",
    "# ==================\n",
    "\n",
    "# get response from the web page\n",
    "response = requests.get('https://api.covid19india.org/raw_data2.json')\n",
    "\n",
    "# get contents from the response\n",
    "content = response.content\n",
    "\n",
    "# parse the json file\n",
    "parsed = json.loads(content)\n",
    "\n",
    "# keys\n",
    "parsed.keys()"
   ]
  },
  {
   "cell_type": "code",
   "execution_count": 5,
   "metadata": {},
   "outputs": [
    {
     "name": "stdout",
     "output_type": "stream",
     "text": [
      "(10585, 20)\n",
      "Index(['agebracket', 'backupnotes', 'contractedfromwhichpatientsuspected',\n",
      "       'currentstatus', 'dateannounced', 'detectedcity', 'detecteddistrict',\n",
      "       'detectedstate', 'estimatedonsetdate', 'gender', 'nationality', 'notes',\n",
      "       'patientnumber', 'source1', 'source2', 'source3', 'statecode',\n",
      "       'statepatientnumber', 'statuschangedate', 'typeoftransmission'],\n",
      "      dtype='object')\n"
     ]
    }
   ],
   "source": [
    "# save to df\n",
    "df_2 = pd.DataFrame(parsed['raw_data'])\n",
    "\n",
    "# shape of the dataframe\n",
    "print(df_2.shape)\n",
    "\n",
    "# # list of columns\n",
    "print(df_2.columns)\n",
    "\n",
    "# # first few rows\n",
    "# df_2.head(2)"
   ]
  },
  {
   "cell_type": "markdown",
   "metadata": {},
   "source": [
    "### df_3 - Live"
   ]
  },
  {
   "cell_type": "code",
   "execution_count": 6,
   "metadata": {},
   "outputs": [
    {
     "data": {
      "text/plain": [
       "dict_keys(['raw_data'])"
      ]
     },
     "execution_count": 6,
     "metadata": {},
     "output_type": "execute_result"
    }
   ],
   "source": [
    "# df_3 - Live\n",
    "# ===========\n",
    "\n",
    "# get response from the web page\n",
    "response = requests.get('https://api.covid19india.org/raw_data3.json')\n",
    "\n",
    "# get contents from the response\n",
    "content = response.content\n",
    "\n",
    "# parse the json file\n",
    "parsed = json.loads(content)\n",
    "\n",
    "# keys\n",
    "parsed.keys()"
   ]
  },
  {
   "cell_type": "code",
   "execution_count": 7,
   "metadata": {},
   "outputs": [
    {
     "name": "stdout",
     "output_type": "stream",
     "text": [
      "(7606, 20)\n",
      "Index(['agebracket', 'contractedfromwhichpatientsuspected', 'currentstatus',\n",
      "       'dateannounced', 'detectedcity', 'detecteddistrict', 'detectedstate',\n",
      "       'entryid', 'gender', 'nationality', 'notes', 'numcases',\n",
      "       'patientnumber', 'source1', 'source2', 'source3', 'statecode',\n",
      "       'statepatientnumber', 'statuschangedate', 'typeoftransmission'],\n",
      "      dtype='object')\n"
     ]
    }
   ],
   "source": [
    "# save to df\n",
    "df_3 = pd.DataFrame(parsed['raw_data'])\n",
    "\n",
    "# shape of the dataframe\n",
    "print(df_3.shape)\n",
    "\n",
    "# # list of columns\n",
    "print(df_3.columns)\n",
    "\n",
    "# # first few rows\n",
    "# df_3.head(2)"
   ]
  },
  {
   "cell_type": "code",
   "execution_count": 8,
   "metadata": {},
   "outputs": [],
   "source": [
    "# np.setdiff1d(df_1.columns, df_3.columns)"
   ]
  },
  {
   "cell_type": "markdown",
   "metadata": {},
   "source": [
    "### full data"
   ]
  },
  {
   "cell_type": "code",
   "execution_count": 9,
   "metadata": {},
   "outputs": [
    {
     "data": {
      "text/plain": [
       "Index(['agebracket', 'contractedfromwhichpatientsuspected', 'currentstatus',\n",
       "       'dateannounced', 'detectedcity', 'detecteddistrict', 'detectedstate',\n",
       "       'gender', 'nationality', 'notes', 'patientnumber', 'source1', 'source2',\n",
       "       'source3', 'statecode', 'statepatientnumber', 'statuschangedate',\n",
       "       'typeoftransmission'],\n",
       "      dtype='object')"
      ]
     },
     "execution_count": 9,
     "metadata": {},
     "output_type": "execute_result"
    }
   ],
   "source": [
    "# full data\n",
    "# =========\n",
    "\n",
    "# drop unwanted rows\n",
    "# df_1 = df_1.drop('_dnp34', axis = 1)\n",
    "df_3 = df_3.drop(['entryid', 'numcases'], axis = 1)\n",
    "\n",
    "# rename columns\n",
    "# df_3 = df_3.rename({'entryid' : 'patientnumber'})\n",
    "\n",
    "# columns\n",
    "df_3.columns"
   ]
  },
  {
   "cell_type": "code",
   "execution_count": 10,
   "metadata": {},
   "outputs": [],
   "source": [
    "# df_3[['entryid', 'patientnumber']]"
   ]
  },
  {
   "cell_type": "code",
   "execution_count": 11,
   "metadata": {},
   "outputs": [
    {
     "data": {
      "text/plain": [
       "(35497, 20)"
      ]
     },
     "execution_count": 11,
     "metadata": {},
     "output_type": "execute_result"
    }
   ],
   "source": [
    "# concatenate data\n",
    "df = pd.concat([df_1, df_2, df_3])\n",
    "\n",
    "# shape of the data\n",
    "df.shape"
   ]
  },
  {
   "cell_type": "code",
   "execution_count": 12,
   "metadata": {},
   "outputs": [
    {
     "data": {
      "text/plain": [
       "Index(['agebracket', 'backupnotes', 'contractedfromwhichpatientsuspected',\n",
       "       'currentstatus', 'dateannounced', 'detectedcity', 'detecteddistrict',\n",
       "       'detectedstate', 'estimatedonsetdate', 'gender', 'nationality', 'notes',\n",
       "       'patientnumber', 'source1', 'source2', 'source3', 'statecode',\n",
       "       'statepatientnumber', 'statuschangedate', 'typeoftransmission'],\n",
       "      dtype='object')"
      ]
     },
     "execution_count": 12,
     "metadata": {},
     "output_type": "execute_result"
    }
   ],
   "source": [
    "# list of columns\n",
    "df.columns"
   ]
  },
  {
   "cell_type": "code",
   "execution_count": 13,
   "metadata": {},
   "outputs": [
    {
     "data": {
      "text/html": [
       "<div>\n",
       "<style scoped>\n",
       "    .dataframe tbody tr th:only-of-type {\n",
       "        vertical-align: middle;\n",
       "    }\n",
       "\n",
       "    .dataframe tbody tr th {\n",
       "        vertical-align: top;\n",
       "    }\n",
       "\n",
       "    .dataframe thead th {\n",
       "        text-align: right;\n",
       "    }\n",
       "</style>\n",
       "<table border=\"1\" class=\"dataframe\">\n",
       "  <thead>\n",
       "    <tr style=\"text-align: right;\">\n",
       "      <th></th>\n",
       "      <th>agebracket</th>\n",
       "      <th>backupnotes</th>\n",
       "      <th>contractedfromwhichpatientsuspected</th>\n",
       "      <th>currentstatus</th>\n",
       "      <th>dateannounced</th>\n",
       "      <th>detectedcity</th>\n",
       "      <th>detecteddistrict</th>\n",
       "      <th>detectedstate</th>\n",
       "      <th>estimatedonsetdate</th>\n",
       "      <th>gender</th>\n",
       "      <th>nationality</th>\n",
       "      <th>notes</th>\n",
       "      <th>patientnumber</th>\n",
       "      <th>source1</th>\n",
       "      <th>source2</th>\n",
       "      <th>source3</th>\n",
       "      <th>statecode</th>\n",
       "      <th>statepatientnumber</th>\n",
       "      <th>statuschangedate</th>\n",
       "      <th>typeoftransmission</th>\n",
       "    </tr>\n",
       "  </thead>\n",
       "  <tbody>\n",
       "    <tr>\n",
       "      <th>0</th>\n",
       "      <td>20</td>\n",
       "      <td>Student from Wuhan</td>\n",
       "      <td></td>\n",
       "      <td>Recovered</td>\n",
       "      <td>30/01/2020</td>\n",
       "      <td>Thrissur</td>\n",
       "      <td>Thrissur</td>\n",
       "      <td>Kerala</td>\n",
       "      <td></td>\n",
       "      <td>F</td>\n",
       "      <td>India</td>\n",
       "      <td>Travelled from Wuhan</td>\n",
       "      <td>1</td>\n",
       "      <td>https://twitter.com/vijayanpinarayi/status/122...</td>\n",
       "      <td>https://weather.com/en-IN/india/news/news/2020...</td>\n",
       "      <td></td>\n",
       "      <td>KL</td>\n",
       "      <td>KL-TS-P1</td>\n",
       "      <td>14/02/2020</td>\n",
       "      <td>Imported</td>\n",
       "    </tr>\n",
       "    <tr>\n",
       "      <th>1</th>\n",
       "      <td></td>\n",
       "      <td>Student from Wuhan</td>\n",
       "      <td></td>\n",
       "      <td>Recovered</td>\n",
       "      <td>02/02/2020</td>\n",
       "      <td>Alappuzha</td>\n",
       "      <td>Alappuzha</td>\n",
       "      <td>Kerala</td>\n",
       "      <td></td>\n",
       "      <td></td>\n",
       "      <td>India</td>\n",
       "      <td>Travelled from Wuhan</td>\n",
       "      <td>2</td>\n",
       "      <td>https://www.indiatoday.in/india/story/kerala-r...</td>\n",
       "      <td>https://weather.com/en-IN/india/news/news/2020...</td>\n",
       "      <td></td>\n",
       "      <td>KL</td>\n",
       "      <td>KL-AL-P1</td>\n",
       "      <td>14/02/2020</td>\n",
       "      <td>Imported</td>\n",
       "    </tr>\n",
       "    <tr>\n",
       "      <th>2</th>\n",
       "      <td></td>\n",
       "      <td>Student from Wuhan</td>\n",
       "      <td></td>\n",
       "      <td>Recovered</td>\n",
       "      <td>03/02/2020</td>\n",
       "      <td>Kasaragod</td>\n",
       "      <td>Kasaragod</td>\n",
       "      <td>Kerala</td>\n",
       "      <td></td>\n",
       "      <td></td>\n",
       "      <td>India</td>\n",
       "      <td>Travelled from Wuhan</td>\n",
       "      <td>3</td>\n",
       "      <td>https://www.indiatoday.in/india/story/kerala-n...</td>\n",
       "      <td>https://twitter.com/ANI/status/122422148580539...</td>\n",
       "      <td>https://weather.com/en-IN/india/news/news/2020...</td>\n",
       "      <td>KL</td>\n",
       "      <td>KL-KS-P1</td>\n",
       "      <td>14/02/2020</td>\n",
       "      <td>Imported</td>\n",
       "    </tr>\n",
       "  </tbody>\n",
       "</table>\n",
       "</div>"
      ],
      "text/plain": [
       "  agebracket         backupnotes contractedfromwhichpatientsuspected  \\\n",
       "0         20  Student from Wuhan                                       \n",
       "1             Student from Wuhan                                       \n",
       "2             Student from Wuhan                                       \n",
       "\n",
       "  currentstatus dateannounced detectedcity detecteddistrict detectedstate  \\\n",
       "0     Recovered    30/01/2020     Thrissur         Thrissur        Kerala   \n",
       "1     Recovered    02/02/2020    Alappuzha        Alappuzha        Kerala   \n",
       "2     Recovered    03/02/2020    Kasaragod        Kasaragod        Kerala   \n",
       "\n",
       "  estimatedonsetdate gender nationality                 notes patientnumber  \\\n",
       "0                         F       India  Travelled from Wuhan             1   \n",
       "1                                 India  Travelled from Wuhan             2   \n",
       "2                                 India  Travelled from Wuhan             3   \n",
       "\n",
       "                                             source1  \\\n",
       "0  https://twitter.com/vijayanpinarayi/status/122...   \n",
       "1  https://www.indiatoday.in/india/story/kerala-r...   \n",
       "2  https://www.indiatoday.in/india/story/kerala-n...   \n",
       "\n",
       "                                             source2  \\\n",
       "0  https://weather.com/en-IN/india/news/news/2020...   \n",
       "1  https://weather.com/en-IN/india/news/news/2020...   \n",
       "2  https://twitter.com/ANI/status/122422148580539...   \n",
       "\n",
       "                                             source3 statecode  \\\n",
       "0                                                           KL   \n",
       "1                                                           KL   \n",
       "2  https://weather.com/en-IN/india/news/news/2020...        KL   \n",
       "\n",
       "  statepatientnumber statuschangedate typeoftransmission  \n",
       "0           KL-TS-P1       14/02/2020           Imported  \n",
       "1           KL-AL-P1       14/02/2020           Imported  \n",
       "2           KL-KS-P1       14/02/2020           Imported  "
      ]
     },
     "execution_count": 13,
     "metadata": {},
     "output_type": "execute_result"
    }
   ],
   "source": [
    "# first 3 rows of the dataframe\n",
    "df.head(3)"
   ]
  },
  {
   "cell_type": "code",
   "execution_count": 14,
   "metadata": {},
   "outputs": [
    {
     "data": {
      "text/plain": [
       "Index(['agebracket', 'backupnotes', 'contractedfromwhichpatientsuspected',\n",
       "       'currentstatus', 'dateannounced', 'detectedcity', 'detecteddistrict',\n",
       "       'detectedstate', 'estimatedonsetdate', 'gender', 'nationality', 'notes',\n",
       "       'patientnumber', 'source1', 'source2', 'source3', 'statecode',\n",
       "       'statepatientnumber', 'statuschangedate', 'typeoftransmission', 'p_id'],\n",
       "      dtype='object')"
      ]
     },
     "execution_count": 14,
     "metadata": {},
     "output_type": "execute_result"
    }
   ],
   "source": [
    "# creating patient id column from patient number\n",
    "# ===============================================\n",
    "\n",
    "df['p_id'] = df['patientnumber'].apply(lambda x : 'P'+str(x))\n",
    "df.columns"
   ]
  },
  {
   "cell_type": "markdown",
   "metadata": {},
   "source": [
    "## Rearrange and rename columns"
   ]
  },
  {
   "cell_type": "code",
   "execution_count": 15,
   "metadata": {},
   "outputs": [
    {
     "data": {
      "text/plain": [
       "(35497, 21)"
      ]
     },
     "execution_count": 15,
     "metadata": {},
     "output_type": "execute_result"
    }
   ],
   "source": [
    "# order of columns\n",
    "cols = ['patientnumber', 'p_id', 'statepatientnumber', \n",
    "        'dateannounced', 'agebracket', 'gender', \n",
    "        'detectedcity', 'detecteddistrict', 'detectedstate', 'statecode', 'nationality',\n",
    "        'typeoftransmission', 'contractedfromwhichpatientsuspected',\n",
    "        'statuschangedate', 'currentstatus', 'estimatedonsetdate',\n",
    "        'source1', 'source2', 'source3', 'notes', 'backupnotes']\n",
    "\n",
    "# rearrange columns\n",
    "df = df[cols]\n",
    "\n",
    "# rename columns\n",
    "df.columns = ['patient_number', 'p_id', 'state_patient_number', \n",
    "              'date_announced', 'age_bracket', 'gender', \n",
    "              'detected_city', 'detected_district', 'detected_state', 'state_code', 'nationality',\n",
    "              'type_of_transmission', 'contracted_from_which_patient_suspected',\n",
    "              'status_change_date', 'current_status', 'estimated_onset_date',\n",
    "              'source1', 'source2', 'source3', 'notes', 'backup_notes']\n",
    "\n",
    "# dataframe shape\n",
    "df.shape"
   ]
  },
  {
   "cell_type": "code",
   "execution_count": 16,
   "metadata": {},
   "outputs": [
    {
     "data": {
      "text/html": [
       "<div>\n",
       "<style scoped>\n",
       "    .dataframe tbody tr th:only-of-type {\n",
       "        vertical-align: middle;\n",
       "    }\n",
       "\n",
       "    .dataframe tbody tr th {\n",
       "        vertical-align: top;\n",
       "    }\n",
       "\n",
       "    .dataframe thead th {\n",
       "        text-align: right;\n",
       "    }\n",
       "</style>\n",
       "<table border=\"1\" class=\"dataframe\">\n",
       "  <thead>\n",
       "    <tr style=\"text-align: right;\">\n",
       "      <th></th>\n",
       "      <th>patient_number</th>\n",
       "      <th>p_id</th>\n",
       "      <th>state_patient_number</th>\n",
       "      <th>date_announced</th>\n",
       "      <th>age_bracket</th>\n",
       "      <th>gender</th>\n",
       "      <th>detected_city</th>\n",
       "      <th>detected_district</th>\n",
       "      <th>detected_state</th>\n",
       "      <th>state_code</th>\n",
       "      <th>...</th>\n",
       "      <th>type_of_transmission</th>\n",
       "      <th>contracted_from_which_patient_suspected</th>\n",
       "      <th>status_change_date</th>\n",
       "      <th>current_status</th>\n",
       "      <th>estimated_onset_date</th>\n",
       "      <th>source1</th>\n",
       "      <th>source2</th>\n",
       "      <th>source3</th>\n",
       "      <th>notes</th>\n",
       "      <th>backup_notes</th>\n",
       "    </tr>\n",
       "  </thead>\n",
       "  <tbody>\n",
       "    <tr>\n",
       "      <th>0</th>\n",
       "      <td>1</td>\n",
       "      <td>P1</td>\n",
       "      <td>KL-TS-P1</td>\n",
       "      <td>30/01/2020</td>\n",
       "      <td>20</td>\n",
       "      <td>F</td>\n",
       "      <td>Thrissur</td>\n",
       "      <td>Thrissur</td>\n",
       "      <td>Kerala</td>\n",
       "      <td>KL</td>\n",
       "      <td>...</td>\n",
       "      <td>Imported</td>\n",
       "      <td></td>\n",
       "      <td>14/02/2020</td>\n",
       "      <td>Recovered</td>\n",
       "      <td></td>\n",
       "      <td>https://twitter.com/vijayanpinarayi/status/122...</td>\n",
       "      <td>https://weather.com/en-IN/india/news/news/2020...</td>\n",
       "      <td></td>\n",
       "      <td>Travelled from Wuhan</td>\n",
       "      <td>Student from Wuhan</td>\n",
       "    </tr>\n",
       "    <tr>\n",
       "      <th>1</th>\n",
       "      <td>2</td>\n",
       "      <td>P2</td>\n",
       "      <td>KL-AL-P1</td>\n",
       "      <td>02/02/2020</td>\n",
       "      <td></td>\n",
       "      <td></td>\n",
       "      <td>Alappuzha</td>\n",
       "      <td>Alappuzha</td>\n",
       "      <td>Kerala</td>\n",
       "      <td>KL</td>\n",
       "      <td>...</td>\n",
       "      <td>Imported</td>\n",
       "      <td></td>\n",
       "      <td>14/02/2020</td>\n",
       "      <td>Recovered</td>\n",
       "      <td></td>\n",
       "      <td>https://www.indiatoday.in/india/story/kerala-r...</td>\n",
       "      <td>https://weather.com/en-IN/india/news/news/2020...</td>\n",
       "      <td></td>\n",
       "      <td>Travelled from Wuhan</td>\n",
       "      <td>Student from Wuhan</td>\n",
       "    </tr>\n",
       "    <tr>\n",
       "      <th>2</th>\n",
       "      <td>3</td>\n",
       "      <td>P3</td>\n",
       "      <td>KL-KS-P1</td>\n",
       "      <td>03/02/2020</td>\n",
       "      <td></td>\n",
       "      <td></td>\n",
       "      <td>Kasaragod</td>\n",
       "      <td>Kasaragod</td>\n",
       "      <td>Kerala</td>\n",
       "      <td>KL</td>\n",
       "      <td>...</td>\n",
       "      <td>Imported</td>\n",
       "      <td></td>\n",
       "      <td>14/02/2020</td>\n",
       "      <td>Recovered</td>\n",
       "      <td></td>\n",
       "      <td>https://www.indiatoday.in/india/story/kerala-n...</td>\n",
       "      <td>https://twitter.com/ANI/status/122422148580539...</td>\n",
       "      <td>https://weather.com/en-IN/india/news/news/2020...</td>\n",
       "      <td>Travelled from Wuhan</td>\n",
       "      <td>Student from Wuhan</td>\n",
       "    </tr>\n",
       "  </tbody>\n",
       "</table>\n",
       "<p>3 rows × 21 columns</p>\n",
       "</div>"
      ],
      "text/plain": [
       "  patient_number p_id state_patient_number date_announced age_bracket gender  \\\n",
       "0              1   P1             KL-TS-P1     30/01/2020          20      F   \n",
       "1              2   P2             KL-AL-P1     02/02/2020                      \n",
       "2              3   P3             KL-KS-P1     03/02/2020                      \n",
       "\n",
       "  detected_city detected_district detected_state state_code  ...  \\\n",
       "0      Thrissur          Thrissur         Kerala         KL  ...   \n",
       "1     Alappuzha         Alappuzha         Kerala         KL  ...   \n",
       "2     Kasaragod         Kasaragod         Kerala         KL  ...   \n",
       "\n",
       "  type_of_transmission contracted_from_which_patient_suspected  \\\n",
       "0             Imported                                           \n",
       "1             Imported                                           \n",
       "2             Imported                                           \n",
       "\n",
       "  status_change_date current_status estimated_onset_date  \\\n",
       "0         14/02/2020      Recovered                        \n",
       "1         14/02/2020      Recovered                        \n",
       "2         14/02/2020      Recovered                        \n",
       "\n",
       "                                             source1  \\\n",
       "0  https://twitter.com/vijayanpinarayi/status/122...   \n",
       "1  https://www.indiatoday.in/india/story/kerala-r...   \n",
       "2  https://www.indiatoday.in/india/story/kerala-n...   \n",
       "\n",
       "                                             source2  \\\n",
       "0  https://weather.com/en-IN/india/news/news/2020...   \n",
       "1  https://weather.com/en-IN/india/news/news/2020...   \n",
       "2  https://twitter.com/ANI/status/122422148580539...   \n",
       "\n",
       "                                             source3                 notes  \\\n",
       "0                                                     Travelled from Wuhan   \n",
       "1                                                     Travelled from Wuhan   \n",
       "2  https://weather.com/en-IN/india/news/news/2020...  Travelled from Wuhan   \n",
       "\n",
       "         backup_notes  \n",
       "0  Student from Wuhan  \n",
       "1  Student from Wuhan  \n",
       "2  Student from Wuhan  \n",
       "\n",
       "[3 rows x 21 columns]"
      ]
     },
     "execution_count": 16,
     "metadata": {},
     "output_type": "execute_result"
    }
   ],
   "source": [
    "# first 3 rows of the dataframe\n",
    "df.head(3)"
   ]
  },
  {
   "cell_type": "markdown",
   "metadata": {},
   "source": [
    "## Missing values"
   ]
  },
  {
   "cell_type": "code",
   "execution_count": 17,
   "metadata": {
    "scrolled": true
   },
   "outputs": [
    {
     "name": "stdout",
     "output_type": "stream",
     "text": [
      "(35497, 21) \n",
      "\n",
      "patient_number \t 1328\n",
      "p_id \t 0\n",
      "state_patient_number \t 29203\n",
      "date_announced \t 451\n",
      "age_bracket \t 29401\n",
      "gender \t 26968\n",
      "detected_city \t 32857\n",
      "detected_district \t 8351\n",
      "detected_state \t 638\n",
      "state_code \t 638\n",
      "nationality \t 32790\n",
      "type_of_transmission \t 32507\n",
      "contracted_from_which_patient_suspected \t 33701\n",
      "status_change_date \t 7717\n",
      "current_status \t 631\n",
      "estimated_onset_date \t 27891\n",
      "source1 \t 1048\n",
      "source2 \t 31578\n",
      "source3 \t 35018\n",
      "notes \t 7239\n",
      "backup_notes \t 27530\n"
     ]
    }
   ],
   "source": [
    "# no. of empty values in each column\n",
    "# ==================================\n",
    "\n",
    "print(df.shape, '\\n')\n",
    "\n",
    "for i in df.columns:\n",
    "    print(i, '\\t', df[df[i]==''].shape[0])"
   ]
  },
  {
   "cell_type": "code",
   "execution_count": 18,
   "metadata": {},
   "outputs": [
    {
     "name": "stdout",
     "output_type": "stream",
     "text": [
      "(35497, 21) \n",
      "\n",
      "patient_number \t 34169\n",
      "p_id \t 35497\n",
      "state_patient_number \t 6294\n",
      "date_announced \t 35046\n",
      "age_bracket \t 6096\n",
      "gender \t 8529\n",
      "detected_city \t 2640\n",
      "detected_district \t 27146\n",
      "detected_state \t 34859\n",
      "state_code \t 34859\n",
      "nationality \t 2707\n",
      "type_of_transmission \t 2990\n",
      "contracted_from_which_patient_suspected \t 1796\n",
      "status_change_date \t 27780\n",
      "current_status \t 34866\n",
      "estimated_onset_date \t 7606\n",
      "source1 \t 34449\n",
      "source2 \t 3919\n",
      "source3 \t 479\n",
      "notes \t 28258\n",
      "backup_notes \t 7967\n"
     ]
    }
   ],
   "source": [
    "# no. of non-empty values in each column\n",
    "# ===================================\n",
    "\n",
    "print(df.shape, '\\n')\n",
    "\n",
    "for i in df.columns:\n",
    "    print(i, '\\t', df[df[i]!=''].shape[0])"
   ]
  },
  {
   "cell_type": "code",
   "execution_count": 19,
   "metadata": {},
   "outputs": [
    {
     "name": "stdout",
     "output_type": "stream",
     "text": [
      "(35497, 21)\n"
     ]
    },
    {
     "data": {
      "text/plain": [
       "patient_number                              1328\n",
       "p_id                                           0\n",
       "state_patient_number                       29203\n",
       "date_announced                               451\n",
       "age_bracket                                29401\n",
       "gender                                     26968\n",
       "detected_city                              32857\n",
       "detected_district                           8351\n",
       "detected_state                               638\n",
       "state_code                                   638\n",
       "nationality                                32790\n",
       "type_of_transmission                       32507\n",
       "contracted_from_which_patient_suspected    33701\n",
       "status_change_date                          7717\n",
       "current_status                               631\n",
       "estimated_onset_date                       35497\n",
       "source1                                     1048\n",
       "source2                                    31578\n",
       "source3                                    35018\n",
       "notes                                       7239\n",
       "backup_notes                               35136\n",
       "dtype: int64"
      ]
     },
     "execution_count": 19,
     "metadata": {},
     "output_type": "execute_result"
    }
   ],
   "source": [
    "# replacing empty strings with np.nan\n",
    "# ==================================-\n",
    "\n",
    "print(df.shape)\n",
    "\n",
    "df = df.replace(r'', np.nan, regex=True)\n",
    "df.isna().sum()"
   ]
  },
  {
   "cell_type": "code",
   "execution_count": 20,
   "metadata": {},
   "outputs": [
    {
     "name": "stdout",
     "output_type": "stream",
     "text": [
      "(35497, 21)\n",
      "(35497, 21)\n"
     ]
    },
    {
     "data": {
      "text/plain": [
       "patient_number                              1328\n",
       "p_id                                           0\n",
       "state_patient_number                       29203\n",
       "date_announced                               451\n",
       "age_bracket                                29401\n",
       "gender                                     26968\n",
       "detected_city                              32857\n",
       "detected_district                           8351\n",
       "detected_state                               638\n",
       "state_code                                   638\n",
       "nationality                                32790\n",
       "type_of_transmission                       32507\n",
       "contracted_from_which_patient_suspected    33701\n",
       "status_change_date                          7717\n",
       "current_status                               631\n",
       "estimated_onset_date                       35497\n",
       "source1                                     1048\n",
       "source2                                    31578\n",
       "source3                                    35018\n",
       "notes                                       7239\n",
       "backup_notes                               35136\n",
       "dtype: int64"
      ]
     },
     "execution_count": 20,
     "metadata": {},
     "output_type": "execute_result"
    }
   ],
   "source": [
    "# droping empty rows (row with just row number but without patient entry\n",
    "# ======================================================================\n",
    "\n",
    "print(df.shape)\n",
    "\n",
    "# df.dropna(subset=['detected_state'], inplace=True)\n",
    "\n",
    "print(df.shape)\n",
    "df.isna().sum()"
   ]
  },
  {
   "cell_type": "markdown",
   "metadata": {},
   "source": [
    "## Save data"
   ]
  },
  {
   "cell_type": "code",
   "execution_count": 21,
   "metadata": {},
   "outputs": [],
   "source": [
    "# save to csv`\n",
    "df.to_csv('patients_data.csv', index=False)"
   ]
  },
  {
   "cell_type": "code",
   "execution_count": null,
   "metadata": {},
   "outputs": [],
   "source": []
  },
  {
   "cell_type": "code",
   "execution_count": null,
   "metadata": {},
   "outputs": [],
   "source": []
  },
  {
   "cell_type": "markdown",
   "metadata": {},
   "source": [
    "# State tested data"
   ]
  },
  {
   "cell_type": "code",
   "execution_count": 22,
   "metadata": {},
   "outputs": [
    {
     "data": {
      "text/plain": [
       "dict_keys(['states_tested_data'])"
      ]
     },
     "execution_count": 22,
     "metadata": {},
     "output_type": "execute_result"
    }
   ],
   "source": [
    "# get response from the web page\n",
    "response = requests.get('https://api.covid19india.org/state_test_data.json')\n",
    "\n",
    "# get contents from the response\n",
    "content = response.content\n",
    "\n",
    "# parse the json file\n",
    "parsed = json.loads(content)\n",
    "\n",
    "# keys\n",
    "parsed.keys()"
   ]
  },
  {
   "cell_type": "code",
   "execution_count": 23,
   "metadata": {},
   "outputs": [
    {
     "data": {
      "text/html": [
       "<div>\n",
       "<style scoped>\n",
       "    .dataframe tbody tr th:only-of-type {\n",
       "        vertical-align: middle;\n",
       "    }\n",
       "\n",
       "    .dataframe tbody tr th {\n",
       "        vertical-align: top;\n",
       "    }\n",
       "\n",
       "    .dataframe thead th {\n",
       "        text-align: right;\n",
       "    }\n",
       "</style>\n",
       "<table border=\"1\" class=\"dataframe\">\n",
       "  <thead>\n",
       "    <tr style=\"text-align: right;\">\n",
       "      <th></th>\n",
       "      <th>negative</th>\n",
       "      <th>numcallsstatehelpline</th>\n",
       "      <th>numicubeds</th>\n",
       "      <th>numisolationbeds</th>\n",
       "      <th>numventilators</th>\n",
       "      <th>populationsourcecovid19india</th>\n",
       "      <th>positive</th>\n",
       "      <th>source</th>\n",
       "      <th>source2</th>\n",
       "      <th>state</th>\n",
       "      <th>...</th>\n",
       "      <th>testpositivityrate</th>\n",
       "      <th>testspermillion</th>\n",
       "      <th>testsperthousand</th>\n",
       "      <th>totalpeopleinquarantine</th>\n",
       "      <th>totalpeoplereleasedfromquarantine</th>\n",
       "      <th>totaltested</th>\n",
       "      <th>unconfirmed</th>\n",
       "      <th>updatedon</th>\n",
       "      <th>_d415a</th>\n",
       "      <th>_d5fpr</th>\n",
       "    </tr>\n",
       "  </thead>\n",
       "  <tbody>\n",
       "    <tr>\n",
       "      <th>0</th>\n",
       "      <td>1210</td>\n",
       "      <td></td>\n",
       "      <td></td>\n",
       "      <td>50</td>\n",
       "      <td></td>\n",
       "      <td>397000</td>\n",
       "      <td>12</td>\n",
       "      <td>https://t.me/indiacovid/2550</td>\n",
       "      <td></td>\n",
       "      <td>Andaman and Nicobar Islands</td>\n",
       "      <td>...</td>\n",
       "      <td>0.86%</td>\n",
       "      <td>3534</td>\n",
       "      <td>3.53</td>\n",
       "      <td></td>\n",
       "      <td></td>\n",
       "      <td>1403</td>\n",
       "      <td>181</td>\n",
       "      <td>17/04/2020</td>\n",
       "      <td>NaN</td>\n",
       "      <td>NaN</td>\n",
       "    </tr>\n",
       "    <tr>\n",
       "      <th>1</th>\n",
       "      <td></td>\n",
       "      <td>280</td>\n",
       "      <td></td>\n",
       "      <td>50</td>\n",
       "      <td></td>\n",
       "      <td></td>\n",
       "      <td>27</td>\n",
       "      <td>https://t.me/indiacovid/3147?single</td>\n",
       "      <td></td>\n",
       "      <td>Andaman and Nicobar Islands</td>\n",
       "      <td>...</td>\n",
       "      <td>1.01%</td>\n",
       "      <td>6748</td>\n",
       "      <td>6.75</td>\n",
       "      <td></td>\n",
       "      <td></td>\n",
       "      <td>2679</td>\n",
       "      <td>246</td>\n",
       "      <td>24/04/2020</td>\n",
       "      <td>1000</td>\n",
       "      <td>1000000</td>\n",
       "    </tr>\n",
       "    <tr>\n",
       "      <th>2</th>\n",
       "      <td></td>\n",
       "      <td>298</td>\n",
       "      <td></td>\n",
       "      <td>50</td>\n",
       "      <td></td>\n",
       "      <td></td>\n",
       "      <td>33</td>\n",
       "      <td>https://t.me/indiacovid/3365?single</td>\n",
       "      <td></td>\n",
       "      <td>Andaman and Nicobar Islands</td>\n",
       "      <td>...</td>\n",
       "      <td>1.16%</td>\n",
       "      <td>7174</td>\n",
       "      <td>7.17</td>\n",
       "      <td></td>\n",
       "      <td></td>\n",
       "      <td>2848</td>\n",
       "      <td>106</td>\n",
       "      <td>27/04/2020</td>\n",
       "      <td>NaN</td>\n",
       "      <td>NaN</td>\n",
       "    </tr>\n",
       "  </tbody>\n",
       "</table>\n",
       "<p>3 rows × 21 columns</p>\n",
       "</div>"
      ],
      "text/plain": [
       "  negative numcallsstatehelpline numicubeds numisolationbeds numventilators  \\\n",
       "0     1210                                                50                  \n",
       "1                            280                          50                  \n",
       "2                            298                          50                  \n",
       "\n",
       "  populationsourcecovid19india positive                               source  \\\n",
       "0                       397000       12         https://t.me/indiacovid/2550   \n",
       "1                                    27  https://t.me/indiacovid/3147?single   \n",
       "2                                    33  https://t.me/indiacovid/3365?single   \n",
       "\n",
       "  source2                        state  ... testpositivityrate  \\\n",
       "0          Andaman and Nicobar Islands  ...              0.86%   \n",
       "1          Andaman and Nicobar Islands  ...              1.01%   \n",
       "2          Andaman and Nicobar Islands  ...              1.16%   \n",
       "\n",
       "  testspermillion testsperthousand totalpeopleinquarantine  \\\n",
       "0            3534             3.53                           \n",
       "1            6748             6.75                           \n",
       "2            7174             7.17                           \n",
       "\n",
       "  totalpeoplereleasedfromquarantine totaltested unconfirmed   updatedon  \\\n",
       "0                                          1403         181  17/04/2020   \n",
       "1                                          2679         246  24/04/2020   \n",
       "2                                          2848         106  27/04/2020   \n",
       "\n",
       "  _d415a   _d5fpr  \n",
       "0    NaN      NaN  \n",
       "1   1000  1000000  \n",
       "2    NaN      NaN  \n",
       "\n",
       "[3 rows x 21 columns]"
      ]
     },
     "execution_count": 23,
     "metadata": {},
     "output_type": "execute_result"
    }
   ],
   "source": [
    "# save data in a dataframe\n",
    "th = pd.DataFrame(parsed['states_tested_data'])\n",
    "\n",
    "# first few rows\n",
    "th.head(3)"
   ]
  },
  {
   "cell_type": "code",
   "execution_count": 24,
   "metadata": {},
   "outputs": [
    {
     "data": {
      "text/plain": [
       "Index(['negative', 'numcallsstatehelpline', 'numicubeds', 'numisolationbeds',\n",
       "       'numventilators', 'populationsourcecovid19india', 'positive', 'source',\n",
       "       'source2', 'state', 'tags', 'testpositivityrate', 'testspermillion',\n",
       "       'testsperthousand', 'totalpeopleinquarantine',\n",
       "       'totalpeoplereleasedfromquarantine', 'totaltested', 'unconfirmed',\n",
       "       'updatedon', '_d415a', '_d5fpr'],\n",
       "      dtype='object')"
      ]
     },
     "execution_count": 24,
     "metadata": {},
     "output_type": "execute_result"
    }
   ],
   "source": [
    "th.columns"
   ]
  },
  {
   "cell_type": "code",
   "execution_count": 25,
   "metadata": {},
   "outputs": [
    {
     "data": {
      "text/html": [
       "<div>\n",
       "<style scoped>\n",
       "    .dataframe tbody tr th:only-of-type {\n",
       "        vertical-align: middle;\n",
       "    }\n",
       "\n",
       "    .dataframe tbody tr th {\n",
       "        vertical-align: top;\n",
       "    }\n",
       "\n",
       "    .dataframe thead th {\n",
       "        text-align: right;\n",
       "    }\n",
       "</style>\n",
       "<table border=\"1\" class=\"dataframe\">\n",
       "  <thead>\n",
       "    <tr style=\"text-align: right;\">\n",
       "      <th></th>\n",
       "      <th>state</th>\n",
       "      <th>updatedon</th>\n",
       "      <th>totaltested</th>\n",
       "      <th>testspermillion</th>\n",
       "      <th>testsperthousand</th>\n",
       "      <th>positive</th>\n",
       "      <th>negative</th>\n",
       "      <th>unconfirmed</th>\n",
       "      <th>testpositivityrate</th>\n",
       "      <th>totalpeopleinquarantine</th>\n",
       "      <th>totalpeoplereleasedfromquarantine</th>\n",
       "      <th>populationsourcecovid19india</th>\n",
       "      <th>numicubeds</th>\n",
       "      <th>numisolationbeds</th>\n",
       "      <th>numventilators</th>\n",
       "      <th>numcallsstatehelpline</th>\n",
       "      <th>_d415a</th>\n",
       "      <th>_d5fpr</th>\n",
       "      <th>source</th>\n",
       "      <th>source2</th>\n",
       "    </tr>\n",
       "  </thead>\n",
       "  <tbody>\n",
       "    <tr>\n",
       "      <th>0</th>\n",
       "      <td>Andaman and Nicobar Islands</td>\n",
       "      <td>17/04/2020</td>\n",
       "      <td>1403</td>\n",
       "      <td>3534</td>\n",
       "      <td>3.53</td>\n",
       "      <td>12</td>\n",
       "      <td>1210</td>\n",
       "      <td>181</td>\n",
       "      <td>0.86%</td>\n",
       "      <td></td>\n",
       "      <td></td>\n",
       "      <td>397000</td>\n",
       "      <td></td>\n",
       "      <td>50</td>\n",
       "      <td></td>\n",
       "      <td></td>\n",
       "      <td>NaN</td>\n",
       "      <td>NaN</td>\n",
       "      <td>https://t.me/indiacovid/2550</td>\n",
       "      <td></td>\n",
       "    </tr>\n",
       "    <tr>\n",
       "      <th>1</th>\n",
       "      <td>Andaman and Nicobar Islands</td>\n",
       "      <td>24/04/2020</td>\n",
       "      <td>2679</td>\n",
       "      <td>6748</td>\n",
       "      <td>6.75</td>\n",
       "      <td>27</td>\n",
       "      <td></td>\n",
       "      <td>246</td>\n",
       "      <td>1.01%</td>\n",
       "      <td></td>\n",
       "      <td></td>\n",
       "      <td></td>\n",
       "      <td></td>\n",
       "      <td>50</td>\n",
       "      <td></td>\n",
       "      <td>280</td>\n",
       "      <td>1000</td>\n",
       "      <td>1000000</td>\n",
       "      <td>https://t.me/indiacovid/3147?single</td>\n",
       "      <td></td>\n",
       "    </tr>\n",
       "    <tr>\n",
       "      <th>2</th>\n",
       "      <td>Andaman and Nicobar Islands</td>\n",
       "      <td>27/04/2020</td>\n",
       "      <td>2848</td>\n",
       "      <td>7174</td>\n",
       "      <td>7.17</td>\n",
       "      <td>33</td>\n",
       "      <td></td>\n",
       "      <td>106</td>\n",
       "      <td>1.16%</td>\n",
       "      <td></td>\n",
       "      <td></td>\n",
       "      <td></td>\n",
       "      <td></td>\n",
       "      <td>50</td>\n",
       "      <td></td>\n",
       "      <td>298</td>\n",
       "      <td>NaN</td>\n",
       "      <td>NaN</td>\n",
       "      <td>https://t.me/indiacovid/3365?single</td>\n",
       "      <td></td>\n",
       "    </tr>\n",
       "    <tr>\n",
       "      <th>3</th>\n",
       "      <td>Andaman and Nicobar Islands</td>\n",
       "      <td>01/05/2020</td>\n",
       "      <td>3754</td>\n",
       "      <td>9456</td>\n",
       "      <td>9.46</td>\n",
       "      <td>33</td>\n",
       "      <td></td>\n",
       "      <td>199</td>\n",
       "      <td>0.88%</td>\n",
       "      <td>643</td>\n",
       "      <td></td>\n",
       "      <td></td>\n",
       "      <td></td>\n",
       "      <td>50</td>\n",
       "      <td></td>\n",
       "      <td>340</td>\n",
       "      <td>NaN</td>\n",
       "      <td>NaN</td>\n",
       "      <td>https://t.me/indiacovid/3781</td>\n",
       "      <td></td>\n",
       "    </tr>\n",
       "    <tr>\n",
       "      <th>4</th>\n",
       "      <td>Andhra Pradesh</td>\n",
       "      <td>02/04/2020</td>\n",
       "      <td>1800</td>\n",
       "      <td>34</td>\n",
       "      <td>0.03</td>\n",
       "      <td>132</td>\n",
       "      <td>1175</td>\n",
       "      <td>493</td>\n",
       "      <td>7.33%</td>\n",
       "      <td>179</td>\n",
       "      <td></td>\n",
       "      <td>52221000</td>\n",
       "      <td>2680</td>\n",
       "      <td>23479</td>\n",
       "      <td>330</td>\n",
       "      <td></td>\n",
       "      <td>NaN</td>\n",
       "      <td>NaN</td>\n",
       "      <td>https://twitter.com/ArogyaAndhra/status/124558...</td>\n",
       "      <td></td>\n",
       "    </tr>\n",
       "  </tbody>\n",
       "</table>\n",
       "</div>"
      ],
      "text/plain": [
       "                         state   updatedon totaltested testspermillion  \\\n",
       "0  Andaman and Nicobar Islands  17/04/2020        1403            3534   \n",
       "1  Andaman and Nicobar Islands  24/04/2020        2679            6748   \n",
       "2  Andaman and Nicobar Islands  27/04/2020        2848            7174   \n",
       "3  Andaman and Nicobar Islands  01/05/2020        3754            9456   \n",
       "4               Andhra Pradesh  02/04/2020        1800              34   \n",
       "\n",
       "  testsperthousand positive negative unconfirmed testpositivityrate  \\\n",
       "0             3.53       12     1210         181              0.86%   \n",
       "1             6.75       27                  246              1.01%   \n",
       "2             7.17       33                  106              1.16%   \n",
       "3             9.46       33                  199              0.88%   \n",
       "4             0.03      132     1175         493              7.33%   \n",
       "\n",
       "  totalpeopleinquarantine totalpeoplereleasedfromquarantine  \\\n",
       "0                                                             \n",
       "1                                                             \n",
       "2                                                             \n",
       "3                     643                                     \n",
       "4                     179                                     \n",
       "\n",
       "  populationsourcecovid19india numicubeds numisolationbeds numventilators  \\\n",
       "0                       397000                          50                  \n",
       "1                                                       50                  \n",
       "2                                                       50                  \n",
       "3                                                       50                  \n",
       "4                     52221000       2680            23479            330   \n",
       "\n",
       "  numcallsstatehelpline _d415a   _d5fpr  \\\n",
       "0                          NaN      NaN   \n",
       "1                   280   1000  1000000   \n",
       "2                   298    NaN      NaN   \n",
       "3                   340    NaN      NaN   \n",
       "4                          NaN      NaN   \n",
       "\n",
       "                                              source source2  \n",
       "0                       https://t.me/indiacovid/2550          \n",
       "1                https://t.me/indiacovid/3147?single          \n",
       "2                https://t.me/indiacovid/3365?single          \n",
       "3                       https://t.me/indiacovid/3781          \n",
       "4  https://twitter.com/ArogyaAndhra/status/124558...          "
      ]
     },
     "execution_count": 25,
     "metadata": {},
     "output_type": "execute_result"
    }
   ],
   "source": [
    "cols = ['state', 'updatedon', 'totaltested', 'testspermillion', 'testsperthousand',\n",
    "        'positive', 'negative', 'unconfirmed', 'testpositivityrate',\n",
    "        'totalpeopleinquarantine', 'totalpeoplereleasedfromquarantine', 'populationsourcecovid19india',\n",
    "        'numicubeds', 'numisolationbeds', 'numventilators', 'numcallsstatehelpline',\n",
    "        '_d415a', '_d5fpr', 'source', 'source2']\n",
    "\n",
    "th = th[cols]\n",
    "\n",
    "th.head()"
   ]
  },
  {
   "cell_type": "code",
   "execution_count": 26,
   "metadata": {},
   "outputs": [],
   "source": [
    "# save to csv`\n",
    "th.to_csv('tests.csv', index=False)"
   ]
  },
  {
   "cell_type": "code",
   "execution_count": null,
   "metadata": {},
   "outputs": [],
   "source": []
  },
  {
   "cell_type": "code",
   "execution_count": null,
   "metadata": {},
   "outputs": [],
   "source": []
  },
  {
   "cell_type": "markdown",
   "metadata": {},
   "source": [
    "## Zones"
   ]
  },
  {
   "cell_type": "code",
   "execution_count": 27,
   "metadata": {},
   "outputs": [
    {
     "data": {
      "text/plain": [
       "dict_keys(['zones'])"
      ]
     },
     "execution_count": 27,
     "metadata": {},
     "output_type": "execute_result"
    }
   ],
   "source": [
    "# get response from the web page\n",
    "response = requests.get('https://api.covid19india.org/zones.json')\n",
    "\n",
    "# get contents from the response\n",
    "content = response.content\n",
    "\n",
    "# parse the json file\n",
    "parsed = json.loads(content)\n",
    "\n",
    "# keys\n",
    "parsed.keys()"
   ]
  },
  {
   "cell_type": "code",
   "execution_count": 28,
   "metadata": {
    "scrolled": true
   },
   "outputs": [
    {
     "data": {
      "text/html": [
       "<div>\n",
       "<style scoped>\n",
       "    .dataframe tbody tr th:only-of-type {\n",
       "        vertical-align: middle;\n",
       "    }\n",
       "\n",
       "    .dataframe tbody tr th {\n",
       "        vertical-align: top;\n",
       "    }\n",
       "\n",
       "    .dataframe thead th {\n",
       "        text-align: right;\n",
       "    }\n",
       "</style>\n",
       "<table border=\"1\" class=\"dataframe\">\n",
       "  <thead>\n",
       "    <tr style=\"text-align: right;\">\n",
       "      <th></th>\n",
       "      <th>district</th>\n",
       "      <th>districtcode</th>\n",
       "      <th>lastupdated</th>\n",
       "      <th>source</th>\n",
       "      <th>state</th>\n",
       "      <th>statecode</th>\n",
       "      <th>zone</th>\n",
       "    </tr>\n",
       "  </thead>\n",
       "  <tbody>\n",
       "    <tr>\n",
       "      <th>0</th>\n",
       "      <td>Nicobars</td>\n",
       "      <td>AN_Nicobars</td>\n",
       "      <td>01/05/2020</td>\n",
       "      <td>https://www.facebook.com/airnewsalerts/photos/...</td>\n",
       "      <td>Andaman and Nicobar Islands</td>\n",
       "      <td>AN</td>\n",
       "      <td>Green</td>\n",
       "    </tr>\n",
       "    <tr>\n",
       "      <th>1</th>\n",
       "      <td>North and Middle Andaman</td>\n",
       "      <td>AN_North and Middle Andaman</td>\n",
       "      <td>01/05/2020</td>\n",
       "      <td>https://www.facebook.com/airnewsalerts/photos/...</td>\n",
       "      <td>Andaman and Nicobar Islands</td>\n",
       "      <td>AN</td>\n",
       "      <td>Green</td>\n",
       "    </tr>\n",
       "    <tr>\n",
       "      <th>2</th>\n",
       "      <td>South Andaman</td>\n",
       "      <td>AN_South Andaman</td>\n",
       "      <td>01/05/2020</td>\n",
       "      <td>https://www.facebook.com/airnewsalerts/photos/...</td>\n",
       "      <td>Andaman and Nicobar Islands</td>\n",
       "      <td>AN</td>\n",
       "      <td>Red</td>\n",
       "    </tr>\n",
       "  </tbody>\n",
       "</table>\n",
       "</div>"
      ],
      "text/plain": [
       "                   district                 districtcode lastupdated  \\\n",
       "0                  Nicobars                  AN_Nicobars  01/05/2020   \n",
       "1  North and Middle Andaman  AN_North and Middle Andaman  01/05/2020   \n",
       "2             South Andaman             AN_South Andaman  01/05/2020   \n",
       "\n",
       "                                              source  \\\n",
       "0  https://www.facebook.com/airnewsalerts/photos/...   \n",
       "1  https://www.facebook.com/airnewsalerts/photos/...   \n",
       "2  https://www.facebook.com/airnewsalerts/photos/...   \n",
       "\n",
       "                         state statecode   zone  \n",
       "0  Andaman and Nicobar Islands        AN  Green  \n",
       "1  Andaman and Nicobar Islands        AN  Green  \n",
       "2  Andaman and Nicobar Islands        AN    Red  "
      ]
     },
     "execution_count": 28,
     "metadata": {},
     "output_type": "execute_result"
    }
   ],
   "source": [
    "zo = pd.DataFrame(parsed['zones'])\n",
    "zo.head(3)"
   ]
  },
  {
   "cell_type": "code",
   "execution_count": 29,
   "metadata": {},
   "outputs": [],
   "source": [
    "# save to csv`\n",
    "zo.to_csv('zones.csv', index=False)"
   ]
  },
  {
   "cell_type": "code",
   "execution_count": null,
   "metadata": {},
   "outputs": [],
   "source": []
  },
  {
   "cell_type": "code",
   "execution_count": null,
   "metadata": {},
   "outputs": [],
   "source": []
  },
  {
   "cell_type": "markdown",
   "metadata": {},
   "source": [
    "## State wise Daily"
   ]
  },
  {
   "cell_type": "code",
   "execution_count": 30,
   "metadata": {},
   "outputs": [],
   "source": [
    "# response = requests.get('https://api.covid19india.org/states_daily.json')\n",
    "# content = response.content\n",
    "# parsed = json.loads(content)\n",
    "\n",
    "# df = pd.DataFrame(parsed['states_daily'])"
   ]
  },
  {
   "cell_type": "code",
   "execution_count": null,
   "metadata": {},
   "outputs": [],
   "source": []
  },
  {
   "cell_type": "code",
   "execution_count": 31,
   "metadata": {},
   "outputs": [],
   "source": [
    "# df = df.melt(id_vars = ['date', 'status'], \n",
    "#              value_vars = ['an', 'ap', 'ar', 'as', 'br', 'ch', 'ct', 'dd', \n",
    "#                     'dl', 'dn', 'ga', 'gj', 'hp', 'hr', 'jh', 'jk', \n",
    "#                     'ka', 'kl', 'la', 'ld', 'mh', 'ml', 'mn', 'mp',\n",
    "#                     'mz', 'nl', 'or', 'pb', 'py', 'rj', 'sk', 'tg', \n",
    "#                     'tn', 'tr', 'tt', 'up', 'ut', 'wb'], \n",
    "#              var_name='state', value_name='count')\n",
    "\n",
    "# df = df.set_index(['date', 'state'])\n",
    "\n",
    "# df = df.pivot(columns = 'status').reset_index()\n",
    "\n",
    "# df.columns = df.columns.droplevel(0)\n",
    "# df.columns.name = ''\n",
    "\n",
    "# df.columns = ['Date', 'State', 'Confirmed', 'Deceased', 'Recovered']\n",
    "# df.head()"
   ]
  },
  {
   "cell_type": "code",
   "execution_count": 32,
   "metadata": {},
   "outputs": [],
   "source": [
    "# response = requests.get('https://api.covid19india.org/csv/')\n",
    "# parsed = response.content.decode('utf-8')\n",
    "# parsed\n",
    "\n",
    "# df = pd.DataFrame(parsed, sep=',')\n",
    "# df.head()"
   ]
  },
  {
   "cell_type": "code",
   "execution_count": 33,
   "metadata": {},
   "outputs": [],
   "source": [
    "# pd.DataFrame('http://api.covid19india.org/states_daily_csv/confirmed.csv')"
   ]
  },
  {
   "cell_type": "code",
   "execution_count": 34,
   "metadata": {},
   "outputs": [],
   "source": [
    "# pd.read_csv('https://api.covid19india.org/csv/')"
   ]
  },
  {
   "cell_type": "markdown",
   "metadata": {},
   "source": [
    "## States Daily changes"
   ]
  },
  {
   "cell_type": "code",
   "execution_count": 35,
   "metadata": {},
   "outputs": [],
   "source": [
    "# response = requests.get('https://api.covid19india.org/states_daily.json')\n",
    "# content = response.content\n",
    "# parsed = json.loads(content)"
   ]
  },
  {
   "cell_type": "code",
   "execution_count": 36,
   "metadata": {},
   "outputs": [],
   "source": [
    "# pd.DataFrame(parsed['states_daily'])"
   ]
  },
  {
   "cell_type": "markdown",
   "metadata": {},
   "source": [
    "## National time series, statewise stats and test counts"
   ]
  },
  {
   "cell_type": "code",
   "execution_count": 37,
   "metadata": {},
   "outputs": [],
   "source": [
    "# response = requests.get('https://api.covid19india.org/data.json')\n",
    "# content = response.content\n",
    "# parsed = json.loads(content)\n",
    "# parsed.keys()"
   ]
  },
  {
   "cell_type": "code",
   "execution_count": 38,
   "metadata": {},
   "outputs": [],
   "source": [
    "# day_wise = pd.DataFrame(parsed['cases_time_series'])\n",
    "# day_wise.head()"
   ]
  },
  {
   "cell_type": "code",
   "execution_count": 39,
   "metadata": {},
   "outputs": [],
   "source": [
    "# state_wise = pd.DataFrame(parsed['statewise'])\n",
    "# state_wise.head()"
   ]
  },
  {
   "cell_type": "code",
   "execution_count": 40,
   "metadata": {},
   "outputs": [],
   "source": [
    "# tested = pd.DataFrame(parsed['tested'])\n",
    "# tested.head()"
   ]
  },
  {
   "cell_type": "markdown",
   "metadata": {},
   "source": [
    "## District wise"
   ]
  },
  {
   "cell_type": "code",
   "execution_count": 41,
   "metadata": {},
   "outputs": [],
   "source": [
    "# response = requests.get('https://api.covid19india.org/state_district_wise.json')\n",
    "# content = response.content\n",
    "# parsed = json.loads(content)\n",
    "# parsed.keys()"
   ]
  },
  {
   "cell_type": "code",
   "execution_count": 42,
   "metadata": {},
   "outputs": [],
   "source": [
    "# pd.DataFrame(parsed['Goa'])"
   ]
  },
  {
   "cell_type": "code",
   "execution_count": 43,
   "metadata": {},
   "outputs": [],
   "source": [
    "# parsed['Goa'].keys()"
   ]
  },
  {
   "cell_type": "code",
   "execution_count": 44,
   "metadata": {},
   "outputs": [],
   "source": [
    "# pd.DataFrame(parsed['Goa']['districtData'])"
   ]
  },
  {
   "cell_type": "markdown",
   "metadata": {},
   "source": [
    "## District wise v2"
   ]
  },
  {
   "cell_type": "code",
   "execution_count": 45,
   "metadata": {},
   "outputs": [],
   "source": [
    "# response = requests.get('https://api.covid19india.org/v2/state_district_wise.json')\n",
    "# content = response.content\n",
    "# parsed = json.loads(content)\n",
    "# len(parsed)"
   ]
  },
  {
   "cell_type": "code",
   "execution_count": 46,
   "metadata": {},
   "outputs": [],
   "source": [
    "# pd.DataFrame(parsed[1]['districtData'])"
   ]
  },
  {
   "cell_type": "markdown",
   "metadata": {},
   "source": [
    "## Travel history (no more updated)"
   ]
  },
  {
   "cell_type": "code",
   "execution_count": 47,
   "metadata": {},
   "outputs": [],
   "source": [
    "# response = requests.get('https://api.covid19india.org/travel_history.json')\n",
    "# content = response.content\n",
    "# parsed = json.loads(content)\n",
    "# parsed.keys()"
   ]
  },
  {
   "cell_type": "code",
   "execution_count": 48,
   "metadata": {},
   "outputs": [],
   "source": [
    "# th = pd.DataFrame(parsed['travel_history'])\n",
    "# th.head()"
   ]
  }
 ],
 "metadata": {
  "kernelspec": {
   "display_name": "Python 3",
   "language": "python",
   "name": "python3"
  },
  "language_info": {
   "codemirror_mode": {
    "name": "ipython",
    "version": 3
   },
   "file_extension": ".py",
   "mimetype": "text/x-python",
   "name": "python",
   "nbconvert_exporter": "python",
   "pygments_lexer": "ipython3",
   "version": "3.7.7"
  }
 },
 "nbformat": 4,
 "nbformat_minor": 4
}
